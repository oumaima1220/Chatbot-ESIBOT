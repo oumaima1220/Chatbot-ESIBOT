{
 "cells": [
  {
   "cell_type": "markdown",
   "id": "828fa3d9",
   "metadata": {},
   "source": [
    "## Importation des bibliothèques"
   ]
  },
  {
   "cell_type": "code",
   "execution_count": 1,
   "id": "71d6e324",
   "metadata": {},
   "outputs": [
    {
     "name": "stdout",
     "output_type": "stream",
     "text": [
      "WARNING:tensorflow:From C:\\Users\\oumai\\anaconda3\\lib\\site-packages\\tensorflow\\python\\compat\\v2_compat.py:107: disable_resource_variables (from tensorflow.python.ops.variable_scope) is deprecated and will be removed in a future version.\n",
      "Instructions for updating:\n",
      "non-resource variables are not supported in the long term\n",
      "curses is not supported on this machine (please install/reinstall curses for an optimal experience)\n"
     ]
    }
   ],
   "source": [
    "import numpy as np\n",
    "import tensorflow as tf\n",
    "import tflearn\n",
    "import nltk\n",
    "from nltk.stem.lancaster import LancasterStemmer\n",
    "stemmer = LancasterStemmer()  \n",
    "import pickle  \n",
    "import warnings  \n",
    "warnings.filterwarnings(\"ignore\")\n",
    "import json "
   ]
  },
  {
   "cell_type": "markdown",
   "id": "96cc62e3",
   "metadata": {},
   "source": [
    "## Traitement du fichier json"
   ]
  },
  {
   "cell_type": "code",
   "execution_count": 2,
   "id": "74dae539",
   "metadata": {},
   "outputs": [],
   "source": [
    "with open('intentions.json', encoding='utf-8') as json_data:\n",
    "    intentions = json.load(json_data)\n",
    "mots = []\n",
    "classes = []\n",
    "documents = []\n",
    "ignore_mots = ['?']\n",
    "for intention in intentions['intentions']:\n",
    "    for pattern in intention['patterns']:\n",
    "        m = nltk.word_tokenize(pattern)  \n",
    "        mots.extend(m)\n",
    "\n",
    "        documents.append((m, intention['tag'])) \n",
    "        if intention['tag'] not in classes:\n",
    "            classes.append(intention['tag'])\n",
    "mots = [stemmer.stem((m.lower())) for m in mots if m not in ignore_mots]\n",
    "mots = sorted(list(set(mots)))\n",
    "classes = sorted(list(set(classes)))"
   ]
  },
  {
   "cell_type": "markdown",
   "id": "002f96ec",
   "metadata": {},
   "source": [
    "## Création des données pour le model"
   ]
  },
  {
   "cell_type": "code",
   "execution_count": 3,
   "id": "b65fa478",
   "metadata": {},
   "outputs": [],
   "source": [
    "training = []\n",
    "output = []\n",
    "output_vide = [0] * len(classes)\n",
    "for doc in documents:\n",
    "    ensemble = []\n",
    "    pattern_mots = doc[0]\n",
    "    pattern_mots = [stemmer.stem(mot.lower()) for mot in pattern_mots]\n",
    "\n",
    "    for m in mots:\n",
    "        ensemble.append(1) if m in pattern_mots else ensemble.append(0)\n",
    "    output_row = list(output_vide)\n",
    "    output_row[classes.index(doc[1])] = 1\n",
    "    training.append([ensemble, output_row])\n",
    "training = np.array(training)"
   ]
  },
  {
   "cell_type": "markdown",
   "id": "68f3b538",
   "metadata": {},
   "source": [
    "## Création de listes de test et entrainement"
   ]
  },
  {
   "cell_type": "code",
   "execution_count": 4,
   "id": "21ea12e9",
   "metadata": {},
   "outputs": [],
   "source": [
    "train_x = list(training[:, 0])\n",
    "train_y = list(training[:, 1])"
   ]
  },
  {
   "cell_type": "markdown",
   "id": "ec3868e2",
   "metadata": {},
   "source": [
    "## Création du réseau de neurone et entrainement du model"
   ]
  },
  {
   "cell_type": "code",
   "execution_count": 5,
   "id": "493c0952",
   "metadata": {},
   "outputs": [
    {
     "name": "stdout",
     "output_type": "stream",
     "text": [
      "Training Step: 8999  | total loss: \u001b[1m\u001b[32m0.06456\u001b[0m\u001b[0m | time: 0.035s\n",
      "| Adam | epoch: 1000 | loss: 0.06456 - acc: 0.9612 -- iter: 64/71\n",
      "Training Step: 9000  | total loss: \u001b[1m\u001b[32m0.05859\u001b[0m\u001b[0m | time: 0.039s\n",
      "| Adam | epoch: 1000 | loss: 0.05859 - acc: 0.9651 -- iter: 71/71\n",
      "--\n",
      "INFO:tensorflow:C:\\Users\\oumai\\Desktop\\Projet Chatbot\\model.teflearn is not in all_model_checkpoint_paths. Manually adding it.\n",
      "INFO:tensorflow:C:\\Users\\oumai\\Desktop\\Projet Chatbot\\model.teflearn.data-00000-of-00001\n",
      "INFO:tensorflow:0\n",
      "INFO:tensorflow:C:\\Users\\oumai\\Desktop\\Projet Chatbot\\model.teflearn.index\n",
      "INFO:tensorflow:0\n",
      "INFO:tensorflow:C:\\Users\\oumai\\Desktop\\Projet Chatbot\\model.teflearn.meta\n",
      "INFO:tensorflow:100\n"
     ]
    }
   ],
   "source": [
    "tf.compat.v1.reset_default_graph()\n",
    "net = tflearn.input_data(shape=[None, len(train_x[0])])\n",
    "net = tflearn.fully_connected(net, 8)\n",
    "net = tflearn.fully_connected(net, 8)\n",
    "net = tflearn.fully_connected(net, len(train_y[0]), activation='softmax')\n",
    "net = tflearn.regression(net)\n",
    "# print(\"training.....\")\n",
    "model = tflearn.DNN(net, tensorboard_dir='tflearn_logs')\n",
    "\n",
    "model.fit(train_x, train_y, n_epoch=1000, batch_size=8, show_metric=True)\n",
    "\n",
    "model.save('model.teflearn')"
   ]
  },
  {
   "cell_type": "markdown",
   "id": "4afa75af",
   "metadata": {},
   "source": [
    "## Traitement des données"
   ]
  },
  {
   "cell_type": "code",
   "execution_count": 6,
   "id": "013ae15b",
   "metadata": {},
   "outputs": [],
   "source": [
    "pickle.dump({'mots': mots, 'classes': classes, 'train_x': train_x, 'train_y': train_y}, open(\"training_data\", 'wb'))\n",
    "\n",
    "\n",
    "\n",
    "data = pickle.load(open(\"training_data\", \"rb\"))\n",
    "mots = data['mots']\n",
    "classes = data['classes']\n",
    "train_x = data['train_x']\n",
    "train_y = data['train_y']\n",
    "with open('intentions.json', encoding='utf-8') as json_data:\n",
    "    intentions = json.load(json_data)\n",
    "\n",
    "def traitement_expression(expression):\n",
    "    expression_mots = nltk.word_tokenize(expression)\n",
    "    expression_mots = [stemmer.stem(mot.lower()) for mot in expression_mots]\n",
    "    return expression_mots\n",
    "\n",
    "\n",
    "def ensemble_tab(expression, mots, show_details=False):\n",
    "    expression_mots = traitement_expression(expression)\n",
    "    ensemble = [0] * len(mots)\n",
    "    for e in expression_mots:\n",
    "        for i, m in enumerate(mots):\n",
    "            if m == e:\n",
    "                ensemble[i] = 1\n",
    "                if show_details:\n",
    "                    print(\"c'est trouvé dans l'ensemble: %e\" % m)\n",
    "    return (np.array(ensemble))\n",
    "\n",
    "def classification(expression):\n",
    "    results = model.predict([ensemble_tab(expression, mots)])[0] \n",
    "    results = [[i, r] for i, r in enumerate(results)]\n",
    "    results.sort(key=lambda x: x[1], reverse=True)\n",
    "    return_list = []\n",
    "    for r in results:\n",
    "        return_list.append((classes[r[0]], r[1]))\n",
    "    return return_list "
   ]
  },
  {
   "cell_type": "code",
   "execution_count": null,
   "id": "1e1f4e1c",
   "metadata": {},
   "outputs": [
    {
     "name": "stdout",
     "output_type": "stream",
     "text": [
      "Question:Bonjour\n",
      "Salut, comment je peux t'aider\n",
      "Question:quelles sont les filières existantes à l'école?\n",
      "pour cycle ingénieur, master ou doctorat?\n",
      "Question:pour cycle ingénieur\n",
      "il y a 3 filières ICSD, ISITD et IIN\n",
      "Question:comment je peux contacter un lauréat?\n",
      "visiter le site esi.ac.ma puis Nos lauréats\n",
      "Question:Merci\n",
      "avec plaisir\n",
      "Question:How are you\n",
      "Everything is going well thank you\n",
      "Question:are there any intership offers?\n",
      "Visit internships and PFE under the heading Our students\n",
      "Question:Thank you\n",
      "You're welcome\n"
     ]
    }
   ],
   "source": [
    "import random\n",
    "def response(expression, ID_Utilisateur='123', show_details=False):\n",
    "    results = classification(expression)\n",
    "    if results:\n",
    "        while results:\n",
    "            for i in intentions['intentions']:\n",
    "                if i['tag'] == results[0][0]:\n",
    "                    return print(random.choice(i['responses']))\n",
    "            results.pop(0)\n",
    "            print(results)\n",
    "while True:\n",
    "    input_data = input(\"Question:\")\n",
    "    answer = response(input_data)\n",
    "    answer"
   ]
  }
 ],
 "metadata": {
  "kernelspec": {
   "display_name": "Python 3 (ipykernel)",
   "language": "python",
   "name": "python3"
  },
  "language_info": {
   "codemirror_mode": {
    "name": "ipython",
    "version": 3
   },
   "file_extension": ".py",
   "mimetype": "text/x-python",
   "name": "python",
   "nbconvert_exporter": "python",
   "pygments_lexer": "ipython3",
   "version": "3.9.12"
  }
 },
 "nbformat": 4,
 "nbformat_minor": 5
}
